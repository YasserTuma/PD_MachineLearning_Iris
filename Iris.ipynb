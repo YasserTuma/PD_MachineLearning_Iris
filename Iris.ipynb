{
  "nbformat": 4,
  "nbformat_minor": 0,
  "metadata": {
    "colab": {
      "name": "Iris.ipynb",
      "provenance": [],
      "collapsed_sections": [
        "gjfLscSJFtvP",
        "Fb4iCzkPFyX3",
        "tvBIASZ5F4YC"
      ]
    },
    "kernelspec": {
      "name": "python3",
      "display_name": "Python 3"
    },
    "language_info": {
      "name": "python"
    }
  },
  "cells": [
    {
      "cell_type": "markdown",
      "source": [
        "# Importando Dados"
      ],
      "metadata": {
        "id": "gjfLscSJFtvP"
      }
    },
    {
      "cell_type": "code",
      "metadata": {
        "colab": {
          "base_uri": "https://localhost:8080/"
        },
        "id": "VKsN-EwEoqMR",
        "outputId": "41461bcd-f075-4c36-c43d-52b1bd57c805"
      },
      "source": [
        "from google.colab import drive, files\n",
        "drive.mount('/content/drive/')"
      ],
      "execution_count": 66,
      "outputs": [
        {
          "output_type": "stream",
          "name": "stdout",
          "text": [
            "Drive already mounted at /content/drive/; to attempt to forcibly remount, call drive.mount(\"/content/drive/\", force_remount=True).\n"
          ]
        }
      ]
    },
    {
      "cell_type": "code",
      "metadata": {
        "id": "G8uGXseRpDQT"
      },
      "source": [
        "import pandas as pd \n",
        "from sklearn.model_selection import train_test_split \n",
        "from sklearn.tree import DecisionTreeClassifier \n",
        "from sklearn import tree\n",
        "from sklearn import metrics"
      ],
      "execution_count": 67,
      "outputs": []
    },
    {
      "cell_type": "code",
      "metadata": {
        "id": "YN6QXZ-ipR87",
        "colab": {
          "base_uri": "https://localhost:8080/",
          "height": 0
        },
        "outputId": "0e417063-d258-42c8-e29e-8da7b892b76d"
      },
      "source": [
        "dataset = pd.read_csv(\"/content/drive/My Drive/Colab Notebooks/iris.data\", sep=',', header=None)\n",
        "dataset"
      ],
      "execution_count": 68,
      "outputs": [
        {
          "output_type": "execute_result",
          "data": {
            "text/plain": [
              "       0    1    2    3               4\n",
              "0    5.1  3.5  1.4  0.2     Iris-setosa\n",
              "1    4.9  3.0  1.4  0.2     Iris-setosa\n",
              "2    4.7  3.2  1.3  0.2     Iris-setosa\n",
              "3    4.6  3.1  1.5  0.2     Iris-setosa\n",
              "4    5.0  3.6  1.4  0.2     Iris-setosa\n",
              "..   ...  ...  ...  ...             ...\n",
              "145  6.7  3.0  5.2  2.3  Iris-virginica\n",
              "146  6.3  2.5  5.0  1.9  Iris-virginica\n",
              "147  6.5  3.0  5.2  2.0  Iris-virginica\n",
              "148  6.2  3.4  5.4  2.3  Iris-virginica\n",
              "149  5.9  3.0  5.1  1.8  Iris-virginica\n",
              "\n",
              "[150 rows x 5 columns]"
            ],
            "text/html": [
              "\n",
              "  <div id=\"df-b26d5d6e-c86f-4f92-adae-1ccd2414589e\">\n",
              "    <div class=\"colab-df-container\">\n",
              "      <div>\n",
              "<style scoped>\n",
              "    .dataframe tbody tr th:only-of-type {\n",
              "        vertical-align: middle;\n",
              "    }\n",
              "\n",
              "    .dataframe tbody tr th {\n",
              "        vertical-align: top;\n",
              "    }\n",
              "\n",
              "    .dataframe thead th {\n",
              "        text-align: right;\n",
              "    }\n",
              "</style>\n",
              "<table border=\"1\" class=\"dataframe\">\n",
              "  <thead>\n",
              "    <tr style=\"text-align: right;\">\n",
              "      <th></th>\n",
              "      <th>0</th>\n",
              "      <th>1</th>\n",
              "      <th>2</th>\n",
              "      <th>3</th>\n",
              "      <th>4</th>\n",
              "    </tr>\n",
              "  </thead>\n",
              "  <tbody>\n",
              "    <tr>\n",
              "      <th>0</th>\n",
              "      <td>5.1</td>\n",
              "      <td>3.5</td>\n",
              "      <td>1.4</td>\n",
              "      <td>0.2</td>\n",
              "      <td>Iris-setosa</td>\n",
              "    </tr>\n",
              "    <tr>\n",
              "      <th>1</th>\n",
              "      <td>4.9</td>\n",
              "      <td>3.0</td>\n",
              "      <td>1.4</td>\n",
              "      <td>0.2</td>\n",
              "      <td>Iris-setosa</td>\n",
              "    </tr>\n",
              "    <tr>\n",
              "      <th>2</th>\n",
              "      <td>4.7</td>\n",
              "      <td>3.2</td>\n",
              "      <td>1.3</td>\n",
              "      <td>0.2</td>\n",
              "      <td>Iris-setosa</td>\n",
              "    </tr>\n",
              "    <tr>\n",
              "      <th>3</th>\n",
              "      <td>4.6</td>\n",
              "      <td>3.1</td>\n",
              "      <td>1.5</td>\n",
              "      <td>0.2</td>\n",
              "      <td>Iris-setosa</td>\n",
              "    </tr>\n",
              "    <tr>\n",
              "      <th>4</th>\n",
              "      <td>5.0</td>\n",
              "      <td>3.6</td>\n",
              "      <td>1.4</td>\n",
              "      <td>0.2</td>\n",
              "      <td>Iris-setosa</td>\n",
              "    </tr>\n",
              "    <tr>\n",
              "      <th>...</th>\n",
              "      <td>...</td>\n",
              "      <td>...</td>\n",
              "      <td>...</td>\n",
              "      <td>...</td>\n",
              "      <td>...</td>\n",
              "    </tr>\n",
              "    <tr>\n",
              "      <th>145</th>\n",
              "      <td>6.7</td>\n",
              "      <td>3.0</td>\n",
              "      <td>5.2</td>\n",
              "      <td>2.3</td>\n",
              "      <td>Iris-virginica</td>\n",
              "    </tr>\n",
              "    <tr>\n",
              "      <th>146</th>\n",
              "      <td>6.3</td>\n",
              "      <td>2.5</td>\n",
              "      <td>5.0</td>\n",
              "      <td>1.9</td>\n",
              "      <td>Iris-virginica</td>\n",
              "    </tr>\n",
              "    <tr>\n",
              "      <th>147</th>\n",
              "      <td>6.5</td>\n",
              "      <td>3.0</td>\n",
              "      <td>5.2</td>\n",
              "      <td>2.0</td>\n",
              "      <td>Iris-virginica</td>\n",
              "    </tr>\n",
              "    <tr>\n",
              "      <th>148</th>\n",
              "      <td>6.2</td>\n",
              "      <td>3.4</td>\n",
              "      <td>5.4</td>\n",
              "      <td>2.3</td>\n",
              "      <td>Iris-virginica</td>\n",
              "    </tr>\n",
              "    <tr>\n",
              "      <th>149</th>\n",
              "      <td>5.9</td>\n",
              "      <td>3.0</td>\n",
              "      <td>5.1</td>\n",
              "      <td>1.8</td>\n",
              "      <td>Iris-virginica</td>\n",
              "    </tr>\n",
              "  </tbody>\n",
              "</table>\n",
              "<p>150 rows × 5 columns</p>\n",
              "</div>\n",
              "      <button class=\"colab-df-convert\" onclick=\"convertToInteractive('df-b26d5d6e-c86f-4f92-adae-1ccd2414589e')\"\n",
              "              title=\"Convert this dataframe to an interactive table.\"\n",
              "              style=\"display:none;\">\n",
              "        \n",
              "  <svg xmlns=\"http://www.w3.org/2000/svg\" height=\"24px\"viewBox=\"0 0 24 24\"\n",
              "       width=\"24px\">\n",
              "    <path d=\"M0 0h24v24H0V0z\" fill=\"none\"/>\n",
              "    <path d=\"M18.56 5.44l.94 2.06.94-2.06 2.06-.94-2.06-.94-.94-2.06-.94 2.06-2.06.94zm-11 1L8.5 8.5l.94-2.06 2.06-.94-2.06-.94L8.5 2.5l-.94 2.06-2.06.94zm10 10l.94 2.06.94-2.06 2.06-.94-2.06-.94-.94-2.06-.94 2.06-2.06.94z\"/><path d=\"M17.41 7.96l-1.37-1.37c-.4-.4-.92-.59-1.43-.59-.52 0-1.04.2-1.43.59L10.3 9.45l-7.72 7.72c-.78.78-.78 2.05 0 2.83L4 21.41c.39.39.9.59 1.41.59.51 0 1.02-.2 1.41-.59l7.78-7.78 2.81-2.81c.8-.78.8-2.07 0-2.86zM5.41 20L4 18.59l7.72-7.72 1.47 1.35L5.41 20z\"/>\n",
              "  </svg>\n",
              "      </button>\n",
              "      \n",
              "  <style>\n",
              "    .colab-df-container {\n",
              "      display:flex;\n",
              "      flex-wrap:wrap;\n",
              "      gap: 12px;\n",
              "    }\n",
              "\n",
              "    .colab-df-convert {\n",
              "      background-color: #E8F0FE;\n",
              "      border: none;\n",
              "      border-radius: 50%;\n",
              "      cursor: pointer;\n",
              "      display: none;\n",
              "      fill: #1967D2;\n",
              "      height: 32px;\n",
              "      padding: 0 0 0 0;\n",
              "      width: 32px;\n",
              "    }\n",
              "\n",
              "    .colab-df-convert:hover {\n",
              "      background-color: #E2EBFA;\n",
              "      box-shadow: 0px 1px 2px rgba(60, 64, 67, 0.3), 0px 1px 3px 1px rgba(60, 64, 67, 0.15);\n",
              "      fill: #174EA6;\n",
              "    }\n",
              "\n",
              "    [theme=dark] .colab-df-convert {\n",
              "      background-color: #3B4455;\n",
              "      fill: #D2E3FC;\n",
              "    }\n",
              "\n",
              "    [theme=dark] .colab-df-convert:hover {\n",
              "      background-color: #434B5C;\n",
              "      box-shadow: 0px 1px 3px 1px rgba(0, 0, 0, 0.15);\n",
              "      filter: drop-shadow(0px 1px 2px rgba(0, 0, 0, 0.3));\n",
              "      fill: #FFFFFF;\n",
              "    }\n",
              "  </style>\n",
              "\n",
              "      <script>\n",
              "        const buttonEl =\n",
              "          document.querySelector('#df-b26d5d6e-c86f-4f92-adae-1ccd2414589e button.colab-df-convert');\n",
              "        buttonEl.style.display =\n",
              "          google.colab.kernel.accessAllowed ? 'block' : 'none';\n",
              "\n",
              "        async function convertToInteractive(key) {\n",
              "          const element = document.querySelector('#df-b26d5d6e-c86f-4f92-adae-1ccd2414589e');\n",
              "          const dataTable =\n",
              "            await google.colab.kernel.invokeFunction('convertToInteractive',\n",
              "                                                     [key], {});\n",
              "          if (!dataTable) return;\n",
              "\n",
              "          const docLinkHtml = 'Like what you see? Visit the ' +\n",
              "            '<a target=\"_blank\" href=https://colab.research.google.com/notebooks/data_table.ipynb>data table notebook</a>'\n",
              "            + ' to learn more about interactive tables.';\n",
              "          element.innerHTML = '';\n",
              "          dataTable['output_type'] = 'display_data';\n",
              "          await google.colab.output.renderOutput(dataTable, element);\n",
              "          const docLink = document.createElement('div');\n",
              "          docLink.innerHTML = docLinkHtml;\n",
              "          element.appendChild(docLink);\n",
              "        }\n",
              "      </script>\n",
              "    </div>\n",
              "  </div>\n",
              "  "
            ]
          },
          "metadata": {},
          "execution_count": 68
        }
      ]
    },
    {
      "cell_type": "markdown",
      "source": [
        "# Renomeando as colunas do dataset"
      ],
      "metadata": {
        "id": "Fb4iCzkPFyX3"
      }
    },
    {
      "cell_type": "code",
      "source": [
        "dataset.rename(columns={0: 'SepalaComprimento', 1: 'SepalaLargura', 2: 'PetalaComprimento', 3: 'PetalaLargura', 4: 'Especie'}, inplace=True)\n",
        "dataset"
      ],
      "metadata": {
        "colab": {
          "base_uri": "https://localhost:8080/",
          "height": 0
        },
        "id": "wbJ2DzMd1yuQ",
        "outputId": "cf7ba4a9-d418-4036-f9d0-5e531af76dea"
      },
      "execution_count": 69,
      "outputs": [
        {
          "output_type": "execute_result",
          "data": {
            "text/plain": [
              "     SepalaComprimento  SepalaLargura  PetalaComprimento  PetalaLargura  \\\n",
              "0                  5.1            3.5                1.4            0.2   \n",
              "1                  4.9            3.0                1.4            0.2   \n",
              "2                  4.7            3.2                1.3            0.2   \n",
              "3                  4.6            3.1                1.5            0.2   \n",
              "4                  5.0            3.6                1.4            0.2   \n",
              "..                 ...            ...                ...            ...   \n",
              "145                6.7            3.0                5.2            2.3   \n",
              "146                6.3            2.5                5.0            1.9   \n",
              "147                6.5            3.0                5.2            2.0   \n",
              "148                6.2            3.4                5.4            2.3   \n",
              "149                5.9            3.0                5.1            1.8   \n",
              "\n",
              "            Especie  \n",
              "0       Iris-setosa  \n",
              "1       Iris-setosa  \n",
              "2       Iris-setosa  \n",
              "3       Iris-setosa  \n",
              "4       Iris-setosa  \n",
              "..              ...  \n",
              "145  Iris-virginica  \n",
              "146  Iris-virginica  \n",
              "147  Iris-virginica  \n",
              "148  Iris-virginica  \n",
              "149  Iris-virginica  \n",
              "\n",
              "[150 rows x 5 columns]"
            ],
            "text/html": [
              "\n",
              "  <div id=\"df-e3bc5456-d4e1-45e3-8f39-ac3df9e1c9ba\">\n",
              "    <div class=\"colab-df-container\">\n",
              "      <div>\n",
              "<style scoped>\n",
              "    .dataframe tbody tr th:only-of-type {\n",
              "        vertical-align: middle;\n",
              "    }\n",
              "\n",
              "    .dataframe tbody tr th {\n",
              "        vertical-align: top;\n",
              "    }\n",
              "\n",
              "    .dataframe thead th {\n",
              "        text-align: right;\n",
              "    }\n",
              "</style>\n",
              "<table border=\"1\" class=\"dataframe\">\n",
              "  <thead>\n",
              "    <tr style=\"text-align: right;\">\n",
              "      <th></th>\n",
              "      <th>SepalaComprimento</th>\n",
              "      <th>SepalaLargura</th>\n",
              "      <th>PetalaComprimento</th>\n",
              "      <th>PetalaLargura</th>\n",
              "      <th>Especie</th>\n",
              "    </tr>\n",
              "  </thead>\n",
              "  <tbody>\n",
              "    <tr>\n",
              "      <th>0</th>\n",
              "      <td>5.1</td>\n",
              "      <td>3.5</td>\n",
              "      <td>1.4</td>\n",
              "      <td>0.2</td>\n",
              "      <td>Iris-setosa</td>\n",
              "    </tr>\n",
              "    <tr>\n",
              "      <th>1</th>\n",
              "      <td>4.9</td>\n",
              "      <td>3.0</td>\n",
              "      <td>1.4</td>\n",
              "      <td>0.2</td>\n",
              "      <td>Iris-setosa</td>\n",
              "    </tr>\n",
              "    <tr>\n",
              "      <th>2</th>\n",
              "      <td>4.7</td>\n",
              "      <td>3.2</td>\n",
              "      <td>1.3</td>\n",
              "      <td>0.2</td>\n",
              "      <td>Iris-setosa</td>\n",
              "    </tr>\n",
              "    <tr>\n",
              "      <th>3</th>\n",
              "      <td>4.6</td>\n",
              "      <td>3.1</td>\n",
              "      <td>1.5</td>\n",
              "      <td>0.2</td>\n",
              "      <td>Iris-setosa</td>\n",
              "    </tr>\n",
              "    <tr>\n",
              "      <th>4</th>\n",
              "      <td>5.0</td>\n",
              "      <td>3.6</td>\n",
              "      <td>1.4</td>\n",
              "      <td>0.2</td>\n",
              "      <td>Iris-setosa</td>\n",
              "    </tr>\n",
              "    <tr>\n",
              "      <th>...</th>\n",
              "      <td>...</td>\n",
              "      <td>...</td>\n",
              "      <td>...</td>\n",
              "      <td>...</td>\n",
              "      <td>...</td>\n",
              "    </tr>\n",
              "    <tr>\n",
              "      <th>145</th>\n",
              "      <td>6.7</td>\n",
              "      <td>3.0</td>\n",
              "      <td>5.2</td>\n",
              "      <td>2.3</td>\n",
              "      <td>Iris-virginica</td>\n",
              "    </tr>\n",
              "    <tr>\n",
              "      <th>146</th>\n",
              "      <td>6.3</td>\n",
              "      <td>2.5</td>\n",
              "      <td>5.0</td>\n",
              "      <td>1.9</td>\n",
              "      <td>Iris-virginica</td>\n",
              "    </tr>\n",
              "    <tr>\n",
              "      <th>147</th>\n",
              "      <td>6.5</td>\n",
              "      <td>3.0</td>\n",
              "      <td>5.2</td>\n",
              "      <td>2.0</td>\n",
              "      <td>Iris-virginica</td>\n",
              "    </tr>\n",
              "    <tr>\n",
              "      <th>148</th>\n",
              "      <td>6.2</td>\n",
              "      <td>3.4</td>\n",
              "      <td>5.4</td>\n",
              "      <td>2.3</td>\n",
              "      <td>Iris-virginica</td>\n",
              "    </tr>\n",
              "    <tr>\n",
              "      <th>149</th>\n",
              "      <td>5.9</td>\n",
              "      <td>3.0</td>\n",
              "      <td>5.1</td>\n",
              "      <td>1.8</td>\n",
              "      <td>Iris-virginica</td>\n",
              "    </tr>\n",
              "  </tbody>\n",
              "</table>\n",
              "<p>150 rows × 5 columns</p>\n",
              "</div>\n",
              "      <button class=\"colab-df-convert\" onclick=\"convertToInteractive('df-e3bc5456-d4e1-45e3-8f39-ac3df9e1c9ba')\"\n",
              "              title=\"Convert this dataframe to an interactive table.\"\n",
              "              style=\"display:none;\">\n",
              "        \n",
              "  <svg xmlns=\"http://www.w3.org/2000/svg\" height=\"24px\"viewBox=\"0 0 24 24\"\n",
              "       width=\"24px\">\n",
              "    <path d=\"M0 0h24v24H0V0z\" fill=\"none\"/>\n",
              "    <path d=\"M18.56 5.44l.94 2.06.94-2.06 2.06-.94-2.06-.94-.94-2.06-.94 2.06-2.06.94zm-11 1L8.5 8.5l.94-2.06 2.06-.94-2.06-.94L8.5 2.5l-.94 2.06-2.06.94zm10 10l.94 2.06.94-2.06 2.06-.94-2.06-.94-.94-2.06-.94 2.06-2.06.94z\"/><path d=\"M17.41 7.96l-1.37-1.37c-.4-.4-.92-.59-1.43-.59-.52 0-1.04.2-1.43.59L10.3 9.45l-7.72 7.72c-.78.78-.78 2.05 0 2.83L4 21.41c.39.39.9.59 1.41.59.51 0 1.02-.2 1.41-.59l7.78-7.78 2.81-2.81c.8-.78.8-2.07 0-2.86zM5.41 20L4 18.59l7.72-7.72 1.47 1.35L5.41 20z\"/>\n",
              "  </svg>\n",
              "      </button>\n",
              "      \n",
              "  <style>\n",
              "    .colab-df-container {\n",
              "      display:flex;\n",
              "      flex-wrap:wrap;\n",
              "      gap: 12px;\n",
              "    }\n",
              "\n",
              "    .colab-df-convert {\n",
              "      background-color: #E8F0FE;\n",
              "      border: none;\n",
              "      border-radius: 50%;\n",
              "      cursor: pointer;\n",
              "      display: none;\n",
              "      fill: #1967D2;\n",
              "      height: 32px;\n",
              "      padding: 0 0 0 0;\n",
              "      width: 32px;\n",
              "    }\n",
              "\n",
              "    .colab-df-convert:hover {\n",
              "      background-color: #E2EBFA;\n",
              "      box-shadow: 0px 1px 2px rgba(60, 64, 67, 0.3), 0px 1px 3px 1px rgba(60, 64, 67, 0.15);\n",
              "      fill: #174EA6;\n",
              "    }\n",
              "\n",
              "    [theme=dark] .colab-df-convert {\n",
              "      background-color: #3B4455;\n",
              "      fill: #D2E3FC;\n",
              "    }\n",
              "\n",
              "    [theme=dark] .colab-df-convert:hover {\n",
              "      background-color: #434B5C;\n",
              "      box-shadow: 0px 1px 3px 1px rgba(0, 0, 0, 0.15);\n",
              "      filter: drop-shadow(0px 1px 2px rgba(0, 0, 0, 0.3));\n",
              "      fill: #FFFFFF;\n",
              "    }\n",
              "  </style>\n",
              "\n",
              "      <script>\n",
              "        const buttonEl =\n",
              "          document.querySelector('#df-e3bc5456-d4e1-45e3-8f39-ac3df9e1c9ba button.colab-df-convert');\n",
              "        buttonEl.style.display =\n",
              "          google.colab.kernel.accessAllowed ? 'block' : 'none';\n",
              "\n",
              "        async function convertToInteractive(key) {\n",
              "          const element = document.querySelector('#df-e3bc5456-d4e1-45e3-8f39-ac3df9e1c9ba');\n",
              "          const dataTable =\n",
              "            await google.colab.kernel.invokeFunction('convertToInteractive',\n",
              "                                                     [key], {});\n",
              "          if (!dataTable) return;\n",
              "\n",
              "          const docLinkHtml = 'Like what you see? Visit the ' +\n",
              "            '<a target=\"_blank\" href=https://colab.research.google.com/notebooks/data_table.ipynb>data table notebook</a>'\n",
              "            + ' to learn more about interactive tables.';\n",
              "          element.innerHTML = '';\n",
              "          dataTable['output_type'] = 'display_data';\n",
              "          await google.colab.output.renderOutput(dataTable, element);\n",
              "          const docLink = document.createElement('div');\n",
              "          docLink.innerHTML = docLinkHtml;\n",
              "          element.appendChild(docLink);\n",
              "        }\n",
              "      </script>\n",
              "    </div>\n",
              "  </div>\n",
              "  "
            ]
          },
          "metadata": {},
          "execution_count": 69
        }
      ]
    },
    {
      "cell_type": "code",
      "metadata": {
        "colab": {
          "base_uri": "https://localhost:8080/"
        },
        "id": "XaP2qfwUpayl",
        "outputId": "24ecd68f-05df-4042-e41f-92cf1db3b618"
      },
      "source": [
        "dataset.info()"
      ],
      "execution_count": 70,
      "outputs": [
        {
          "output_type": "stream",
          "name": "stdout",
          "text": [
            "<class 'pandas.core.frame.DataFrame'>\n",
            "RangeIndex: 150 entries, 0 to 149\n",
            "Data columns (total 5 columns):\n",
            " #   Column             Non-Null Count  Dtype  \n",
            "---  ------             --------------  -----  \n",
            " 0   SepalaComprimento  150 non-null    float64\n",
            " 1   SepalaLargura      150 non-null    float64\n",
            " 2   PetalaComprimento  150 non-null    float64\n",
            " 3   PetalaLargura      150 non-null    float64\n",
            " 4   Especie            150 non-null    object \n",
            "dtypes: float64(4), object(1)\n",
            "memory usage: 6.0+ KB\n"
          ]
        }
      ]
    },
    {
      "cell_type": "markdown",
      "source": [
        "# Criando amostra de treino e teste"
      ],
      "metadata": {
        "id": "tvBIASZ5F4YC"
      }
    },
    {
      "cell_type": "code",
      "metadata": {
        "colab": {
          "base_uri": "https://localhost:8080/"
        },
        "id": "0EU8NRDApflc",
        "outputId": "5d31ccd1-8b9d-4108-e3f2-34664ec368ed"
      },
      "source": [
        "train, test = train_test_split(dataset)\n",
        "print(train.shape)\n",
        "print(test.shape)"
      ],
      "execution_count": 87,
      "outputs": [
        {
          "output_type": "stream",
          "name": "stdout",
          "text": [
            "(112, 5)\n",
            "(38, 5)\n"
          ]
        }
      ]
    },
    {
      "cell_type": "code",
      "metadata": {
        "id": "ZQPzB7Wlpkvt",
        "colab": {
          "base_uri": "https://localhost:8080/"
        },
        "outputId": "74d7f2e0-3770-48ae-c881-f31776acc1db"
      },
      "source": [
        "train_X = train.loc[:, [\"SepalaComprimento\",\"SepalaLargura\", \"PetalaComprimento\", \"PetalaLargura\"]]\n",
        "train_Y = train[\"Especie\"]\n",
        "print(train_X)\n",
        "print(train_Y)"
      ],
      "execution_count": 88,
      "outputs": [
        {
          "output_type": "stream",
          "name": "stdout",
          "text": [
            "     SepalaComprimento  SepalaLargura  PetalaComprimento  PetalaLargura\n",
            "73                 6.1            2.8                4.7            1.2\n",
            "109                7.2            3.6                6.1            2.5\n",
            "12                 4.8            3.0                1.4            0.1\n",
            "134                6.1            2.6                5.6            1.4\n",
            "54                 6.5            2.8                4.6            1.5\n",
            "..                 ...            ...                ...            ...\n",
            "100                6.3            3.3                6.0            2.5\n",
            "61                 5.9            3.0                4.2            1.5\n",
            "92                 5.8            2.6                4.0            1.2\n",
            "132                6.4            2.8                5.6            2.2\n",
            "18                 5.7            3.8                1.7            0.3\n",
            "\n",
            "[112 rows x 4 columns]\n",
            "73     Iris-versicolor\n",
            "109     Iris-virginica\n",
            "12         Iris-setosa\n",
            "134     Iris-virginica\n",
            "54     Iris-versicolor\n",
            "            ...       \n",
            "100     Iris-virginica\n",
            "61     Iris-versicolor\n",
            "92     Iris-versicolor\n",
            "132     Iris-virginica\n",
            "18         Iris-setosa\n",
            "Name: Especie, Length: 112, dtype: object\n"
          ]
        }
      ]
    },
    {
      "cell_type": "code",
      "source": [
        "test_X = test.loc[:, [\"SepalaComprimento\",\"SepalaLargura\", \"PetalaComprimento\", \"PetalaLargura\"]]\n",
        "test_Y = test[\"Especie\"]\n",
        "\n",
        "print(test_X)\n",
        "print(test_Y)"
      ],
      "metadata": {
        "colab": {
          "base_uri": "https://localhost:8080/"
        },
        "id": "Gd18RYEY3TnB",
        "outputId": "1992a9c9-6044-4caa-84d6-bb4751aff2c9"
      },
      "execution_count": 89,
      "outputs": [
        {
          "output_type": "stream",
          "name": "stdout",
          "text": [
            "     SepalaComprimento  SepalaLargura  PetalaComprimento  PetalaLargura\n",
            "7                  5.0            3.4                1.5            0.2\n",
            "24                 4.8            3.4                1.9            0.2\n",
            "143                6.8            3.2                5.9            2.3\n",
            "104                6.5            3.0                5.8            2.2\n",
            "131                7.9            3.8                6.4            2.0\n",
            "76                 6.8            2.8                4.8            1.4\n",
            "22                 4.6            3.6                1.0            0.2\n",
            "141                6.9            3.1                5.1            2.3\n",
            "17                 5.1            3.5                1.4            0.3\n",
            "35                 5.0            3.2                1.2            0.2\n",
            "51                 6.4            3.2                4.5            1.5\n",
            "125                7.2            3.2                6.0            1.8\n",
            "135                7.7            3.0                6.1            2.3\n",
            "101                5.8            2.7                5.1            1.9\n",
            "68                 6.2            2.2                4.5            1.5\n",
            "67                 5.8            2.7                4.1            1.0\n",
            "5                  5.4            3.9                1.7            0.4\n",
            "144                6.7            3.3                5.7            2.5\n",
            "120                6.9            3.2                5.7            2.3\n",
            "99                 5.7            2.8                4.1            1.3\n",
            "38                 4.4            3.0                1.3            0.2\n",
            "26                 5.0            3.4                1.6            0.4\n",
            "96                 5.7            2.9                4.2            1.3\n",
            "119                6.0            2.2                5.0            1.5\n",
            "98                 5.1            2.5                3.0            1.1\n",
            "117                7.7            3.8                6.7            2.2\n",
            "23                 5.1            3.3                1.7            0.5\n",
            "146                6.3            2.5                5.0            1.9\n",
            "121                5.6            2.8                4.9            2.0\n",
            "16                 5.4            3.9                1.3            0.4\n",
            "65                 6.7            3.1                4.4            1.4\n",
            "28                 5.2            3.4                1.4            0.2\n",
            "49                 5.0            3.3                1.4            0.2\n",
            "127                6.1            3.0                4.9            1.8\n",
            "103                6.3            2.9                5.6            1.8\n",
            "32                 5.2            4.1                1.5            0.1\n",
            "58                 6.6            2.9                4.6            1.3\n",
            "138                6.0            3.0                4.8            1.8\n",
            "7          Iris-setosa\n",
            "24         Iris-setosa\n",
            "143     Iris-virginica\n",
            "104     Iris-virginica\n",
            "131     Iris-virginica\n",
            "76     Iris-versicolor\n",
            "22         Iris-setosa\n",
            "141     Iris-virginica\n",
            "17         Iris-setosa\n",
            "35         Iris-setosa\n",
            "51     Iris-versicolor\n",
            "125     Iris-virginica\n",
            "135     Iris-virginica\n",
            "101     Iris-virginica\n",
            "68     Iris-versicolor\n",
            "67     Iris-versicolor\n",
            "5          Iris-setosa\n",
            "144     Iris-virginica\n",
            "120     Iris-virginica\n",
            "99     Iris-versicolor\n",
            "38         Iris-setosa\n",
            "26         Iris-setosa\n",
            "96     Iris-versicolor\n",
            "119     Iris-virginica\n",
            "98     Iris-versicolor\n",
            "117     Iris-virginica\n",
            "23         Iris-setosa\n",
            "146     Iris-virginica\n",
            "121     Iris-virginica\n",
            "16         Iris-setosa\n",
            "65     Iris-versicolor\n",
            "28         Iris-setosa\n",
            "49         Iris-setosa\n",
            "127     Iris-virginica\n",
            "103     Iris-virginica\n",
            "32         Iris-setosa\n",
            "58     Iris-versicolor\n",
            "138     Iris-virginica\n",
            "Name: Especie, dtype: object\n"
          ]
        }
      ]
    },
    {
      "cell_type": "markdown",
      "source": [
        "# Treinando o modelo"
      ],
      "metadata": {
        "id": "Ke-9vVbZF-tn"
      }
    },
    {
      "cell_type": "code",
      "source": [
        "decision_tree = DecisionTreeClassifier()\n",
        "\n",
        "decision_tree.fit(train_X, train_Y)\n",
        "\n",
        "tree.plot_tree(decision_tree)"
      ],
      "metadata": {
        "colab": {
          "base_uri": "https://localhost:8080/",
          "height": 474
        },
        "id": "KK-zuB4e4oZW",
        "outputId": "ade09a6c-f14c-4128-f326-bad0c8e6e0c0"
      },
      "execution_count": 90,
      "outputs": [
        {
          "output_type": "execute_result",
          "data": {
            "text/plain": [
              "[Text(0.4, 0.9, 'X[2] <= 2.6\\ngini = 0.665\\nsamples = 112\\nvalue = [37, 41, 34]'),\n",
              " Text(0.3, 0.7, 'gini = 0.0\\nsamples = 37\\nvalue = [37, 0, 0]'),\n",
              " Text(0.5, 0.7, 'X[2] <= 5.05\\ngini = 0.496\\nsamples = 75\\nvalue = [0, 41, 34]'),\n",
              " Text(0.2, 0.5, 'X[3] <= 1.65\\ngini = 0.165\\nsamples = 44\\nvalue = [0, 40, 4]'),\n",
              " Text(0.1, 0.3, 'gini = 0.0\\nsamples = 38\\nvalue = [0, 38, 0]'),\n",
              " Text(0.3, 0.3, 'X[1] <= 2.9\\ngini = 0.444\\nsamples = 6\\nvalue = [0, 2, 4]'),\n",
              " Text(0.2, 0.1, 'gini = 0.0\\nsamples = 4\\nvalue = [0, 0, 4]'),\n",
              " Text(0.4, 0.1, 'gini = 0.0\\nsamples = 2\\nvalue = [0, 2, 0]'),\n",
              " Text(0.8, 0.5, 'X[0] <= 6.05\\ngini = 0.062\\nsamples = 31\\nvalue = [0, 1, 30]'),\n",
              " Text(0.7, 0.3, 'X[0] <= 5.95\\ngini = 0.375\\nsamples = 4\\nvalue = [0, 1, 3]'),\n",
              " Text(0.6, 0.1, 'gini = 0.0\\nsamples = 3\\nvalue = [0, 0, 3]'),\n",
              " Text(0.8, 0.1, 'gini = 0.0\\nsamples = 1\\nvalue = [0, 1, 0]'),\n",
              " Text(0.9, 0.3, 'gini = 0.0\\nsamples = 27\\nvalue = [0, 0, 27]')]"
            ]
          },
          "metadata": {},
          "execution_count": 90
        },
        {
          "output_type": "display_data",
          "data": {
            "text/plain": [
              "<Figure size 432x288 with 1 Axes>"
            ],
            "image/png": "[encoded data removed]"
          },
          "metadata": {
            "needs_background": "light"
          }
        }
      ]
    },
    {
      "cell_type": "markdown",
      "source": [
        "# Métricas"
      ],
      "metadata": {
        "id": "HckMTTrqGCX5"
      }
    },
    {
      "cell_type": "code",
      "source": [
        "def printMetrics(pred_Y, real_Y):\n",
        "  print('Acurácia da árvore de decisão: ',metrics.accuracy_score(real_Y, pred_Y))\n",
        "  \n",
        "  print('\\nRecall da árvore de decisão: ',metrics.recall_score(real_Y, pred_Y, average='micro'))\n",
        "  \n",
        "  print('\\nF-Score da árvore de decisão: ',metrics.f1_score(real_Y, pred_Y, average='micro'))\n",
        "  \n",
        "  print('\\nMatriz de confusão:')\n",
        "  print(metrics.confusion_matrix(real_Y, pred_Y))"
      ],
      "metadata": {
        "id": "7AFMJY4c9Yc2"
      },
      "execution_count": 91,
      "outputs": []
    },
    {
      "cell_type": "markdown",
      "source": [
        "## Avaliando o modelo com a amostra de teste"
      ],
      "metadata": {
        "id": "65rXZPpcGI2r"
      }
    },
    {
      "cell_type": "code",
      "metadata": {
        "colab": {
          "base_uri": "https://localhost:8080/"
        },
        "id": "d8Yby_OWppX2",
        "outputId": "164951a2-3cf5-4755-d76c-09e8b7f3475e"
      },
      "source": [
        "prediction = decision_tree.predict(test_X)\n",
        "\n",
        "printMetrics(test_Y, prediction)"
      ],
      "execution_count": 92,
      "outputs": [
        {
          "output_type": "stream",
          "name": "stdout",
          "text": [
            "Acurácia da árvore de decisão:  0.9210526315789473\n",
            "\n",
            "Recall da árvore de decisão:  0.9210526315789473\n",
            "\n",
            "F-Score da árvore de decisão:  0.9210526315789473\n",
            "\n",
            "Matriz de confusão:\n",
            "[[13  0  0]\n",
            " [ 0  9  3]\n",
            " [ 0  0 13]]\n"
          ]
        }
      ]
    },
    {
      "cell_type": "markdown",
      "source": [
        "## Avaliando o modelo com todos os dados do dataset"
      ],
      "metadata": {
        "id": "K4pfTVENGPSj"
      }
    },
    {
      "cell_type": "code",
      "source": [
        "data_X = dataset.loc[:, [\"SepalaComprimento\",\"SepalaLargura\", \"PetalaComprimento\", \"PetalaLargura\"]]\n",
        "data_Y = dataset[\"Especie\"]\n",
        "\n",
        "print(data_X)\n",
        "print(data_Y)"
      ],
      "metadata": {
        "colab": {
          "base_uri": "https://localhost:8080/"
        },
        "id": "oCP8b0-C82jU",
        "outputId": "3eac0a7e-d5f1-4674-8384-243da5ed896c"
      },
      "execution_count": 93,
      "outputs": [
        {
          "output_type": "stream",
          "name": "stdout",
          "text": [
            "     SepalaComprimento  SepalaLargura  PetalaComprimento  PetalaLargura\n",
            "0                  5.1            3.5                1.4            0.2\n",
            "1                  4.9            3.0                1.4            0.2\n",
            "2                  4.7            3.2                1.3            0.2\n",
            "3                  4.6            3.1                1.5            0.2\n",
            "4                  5.0            3.6                1.4            0.2\n",
            "..                 ...            ...                ...            ...\n",
            "145                6.7            3.0                5.2            2.3\n",
            "146                6.3            2.5                5.0            1.9\n",
            "147                6.5            3.0                5.2            2.0\n",
            "148                6.2            3.4                5.4            2.3\n",
            "149                5.9            3.0                5.1            1.8\n",
            "\n",
            "[150 rows x 4 columns]\n",
            "0         Iris-setosa\n",
            "1         Iris-setosa\n",
            "2         Iris-setosa\n",
            "3         Iris-setosa\n",
            "4         Iris-setosa\n",
            "            ...      \n",
            "145    Iris-virginica\n",
            "146    Iris-virginica\n",
            "147    Iris-virginica\n",
            "148    Iris-virginica\n",
            "149    Iris-virginica\n",
            "Name: Especie, Length: 150, dtype: object\n"
          ]
        }
      ]
    },
    {
      "cell_type": "code",
      "source": [
        "prediction = decision_tree.predict(data_X)\n",
        "\n",
        "printMetrics(data_Y, prediction)"
      ],
      "metadata": {
        "colab": {
          "base_uri": "https://localhost:8080/"
        },
        "id": "jWPelE619ImD",
        "outputId": "7b0c3636-6aa5-416a-b002-0858b776ef3d"
      },
      "execution_count": 94,
      "outputs": [
        {
          "output_type": "stream",
          "name": "stdout",
          "text": [
            "Acurácia da árvore de decisão:  0.98\n",
            "\n",
            "Recall da árvore de decisão:  0.98\n",
            "\n",
            "F-Score da árvore de decisão:  0.98\n",
            "\n",
            "Matriz de confusão:\n",
            "[[50  0  0]\n",
            " [ 0 50  3]\n",
            " [ 0  0 47]]\n"
          ]
        }
      ]
    }
  ]
}